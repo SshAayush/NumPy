{
 "cells": [
  {
   "cell_type": "markdown",
   "id": "eaab2bb0-26df-4ccc-9239-ab22cfa78369",
   "metadata": {},
   "source": [
    "#Broadcasting"
   ]
  },
  {
   "cell_type": "code",
   "execution_count": 2,
   "id": "dac4051f-c944-4db0-8b2c-4e15a4fcc513",
   "metadata": {},
   "outputs": [
    {
     "name": "stdout",
     "output_type": "stream",
     "text": [
      "[[5 6 7]\n",
      " [6 7 8]\n",
      " [7 8 9]]\n"
     ]
    }
   ],
   "source": [
    "import numpy as np\n",
    "var1 = np.array([[1],[2],[3]])\n",
    "var2 = np.array([ 4,5,6])\n",
    "print(var1 + var2)"
   ]
  },
  {
   "cell_type": "code",
   "execution_count": 5,
   "id": "e7f01f8f-0991-40eb-8054-730f40a88f39",
   "metadata": {},
   "outputs": [
    {
     "name": "stdout",
     "output_type": "stream",
     "text": [
      "[[2 3 4]\n",
      " [6 7 8]]\n"
     ]
    }
   ],
   "source": [
    "x = np.array([[1],[2]])\n",
    "y = np.array([[1,2,3],[4,5,6]])\n",
    "\n",
    "print(x+y)\n"
   ]
  },
  {
   "cell_type": "markdown",
   "id": "9e16ea57-b438-450c-8907-3142ced643b8",
   "metadata": {},
   "source": [
    "#slicing"
   ]
  },
  {
   "cell_type": "code",
   "execution_count": 12,
   "id": "e3ec98e2-c6d8-4d53-adfe-92c2db5d50ba",
   "metadata": {},
   "outputs": [
    {
     "data": {
      "text/plain": [
       "array([ 5, 10, 30])"
      ]
     },
     "execution_count": 12,
     "metadata": {},
     "output_type": "execute_result"
    }
   ],
   "source": [
    "x = np.array([5,15,10,20,30])\n",
    "x[1:4]\n",
    "x[1:]\n",
    "x[:4]\n",
    "x[::2]"
   ]
  },
  {
   "cell_type": "code",
   "execution_count": 15,
   "id": "436f4582-ba97-4c3f-9b74-f1cfa6e7d567",
   "metadata": {},
   "outputs": [
    {
     "name": "stdout",
     "output_type": "stream",
     "text": [
      "[[ 9  8  7  6]\n",
      " [11 12 13 14]]\n"
     ]
    },
    {
     "data": {
      "text/plain": [
       "array([8, 7, 6])"
      ]
     },
     "execution_count": 15,
     "metadata": {},
     "output_type": "execute_result"
    }
   ],
   "source": [
    "y = np.array([[9,8,7,6,],[11,12,13,14]])\n",
    "print(y)\n",
    "y[0,1:4]"
   ]
  },
  {
   "cell_type": "markdown",
   "id": "f5cb5782-d36d-496d-a6ca-41b75cfa89fb",
   "metadata": {},
   "source": [
    "#iteration 3D array"
   ]
  },
  {
   "cell_type": "code",
   "execution_count": 18,
   "id": "a4e39b8a-3e32-4e73-84c7-87fde6a50d38",
   "metadata": {},
   "outputs": [
    {
     "name": "stdout",
     "output_type": "stream",
     "text": [
      "3\n",
      "1\n",
      "2\n",
      "3\n",
      "4\n",
      "5\n",
      "6\n",
      "7\n",
      "8\n"
     ]
    }
   ],
   "source": [
    "var_arr = np.array([[[1,2,3,4],[5,6,7,8]]])\n",
    "print(var_arr.ndim)\n",
    "\n",
    "for i in var_arr:\n",
    "    for j in i:\n",
    "        for k in j:\n",
    "            print(k)"
   ]
  },
  {
   "cell_type": "code",
   "execution_count": 20,
   "id": "fe9211cd-28db-462d-9b8b-ffd45f9dda06",
   "metadata": {},
   "outputs": [
    {
     "name": "stdout",
     "output_type": "stream",
     "text": [
      "1\n",
      "2\n",
      "3\n",
      "4\n",
      "5\n",
      "6\n",
      "7\n",
      "8\n"
     ]
    }
   ],
   "source": [
    "var_arr1 = np.array([[[1,2,3,4],[5,6,7,8]]])\n",
    "\n",
    "for i in np.nditer(var_arr1):\n",
    "    print(i)"
   ]
  },
  {
   "cell_type": "code",
   "execution_count": 23,
   "id": "6c3b8c00-02c0-4dff-8657-ae9fccba9b86",
   "metadata": {},
   "outputs": [
    {
     "name": "stdout",
     "output_type": "stream",
     "text": [
      "b'1'\n",
      "b'2'\n",
      "b'3'\n",
      "b'4'\n",
      "b'5'\n",
      "b'6'\n",
      "b'7'\n",
      "b'8'\n"
     ]
    }
   ],
   "source": [
    "var_arr1 = np.array([[[1,2,3,4],[5,6,7,8]]])\n",
    "\n",
    "for i in np.nditer(var_arr1,flags=['buffered'],op_dtypes=['S']):\n",
    "    print(i)"
   ]
  },
  {
   "cell_type": "code",
   "execution_count": 24,
   "id": "6dbaa6fd-5323-4d4e-87c5-ee7bef107e7c",
   "metadata": {},
   "outputs": [
    {
     "name": "stdout",
     "output_type": "stream",
     "text": [
      "(0, 0, 0) 1\n",
      "(0, 0, 1) 2\n",
      "(0, 0, 2) 3\n",
      "(0, 0, 3) 4\n",
      "(0, 1, 0) 5\n",
      "(0, 1, 1) 6\n",
      "(0, 1, 2) 7\n",
      "(0, 1, 3) 8\n"
     ]
    }
   ],
   "source": [
    "var_arr1 = np.array([[[1,2,3,4],[5,6,7,8]]])\n",
    "\n",
    "for i,d in np.ndenumerate(var_arr1):\n",
    "    print(i,d)"
   ]
  },
  {
   "cell_type": "code",
   "execution_count": null,
   "id": "f28bb411-f073-4596-9f2a-d6251e267186",
   "metadata": {},
   "outputs": [],
   "source": [
    "   "
   ]
  }
 ],
 "metadata": {
  "kernelspec": {
   "display_name": "Python 3 (ipykernel)",
   "language": "python",
   "name": "python3"
  },
  "language_info": {
   "codemirror_mode": {
    "name": "ipython",
    "version": 3
   },
   "file_extension": ".py",
   "mimetype": "text/x-python",
   "name": "python",
   "nbconvert_exporter": "python",
   "pygments_lexer": "ipython3",
   "version": "3.11.3"
  }
 },
 "nbformat": 4,
 "nbformat_minor": 5
}
