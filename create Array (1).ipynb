{
 "cells": [
  {
   "cell_type": "code",
   "execution_count": 2,
   "id": "9da6ec5e-d21f-421d-a806-22c7addbd445",
   "metadata": {},
   "outputs": [
    {
     "name": "stdin",
     "output_type": "stream",
     "text": [
      "Number:  11\n",
      "Number:  13\n",
      "Number:  12\n",
      "Number:  10\n"
     ]
    },
    {
     "name": "stdout",
     "output_type": "stream",
     "text": [
      "[11 13 12 10]\n"
     ]
    }
   ],
   "source": [
    "import numpy as np\n",
    "L = []\n",
    "for i in range(1,5):\n",
    "    user_i = int(input(\"Number: \"))\n",
    "    L.append(user_i)\n",
    "print(np.array(L))"
   ]
  },
  {
   "cell_type": "code",
   "execution_count": 4,
   "id": "818d45da-0720-4b81-ba99-1a835d281587",
   "metadata": {},
   "outputs": [
    {
     "name": "stdout",
     "output_type": "stream",
     "text": [
      "[[[[[[[[[[1 2 3 4]]]]]]]]]]\n",
      "10\n"
     ]
    }
   ],
   "source": [
    "arr = np.array([1,2,3,4], ndmin=10)\n",
    "print(arr)\n",
    "print(arr.ndim)"
   ]
  },
  {
   "cell_type": "markdown",
   "id": "313c3d2c-e07e-4436-a74c-6ee26ec02950",
   "metadata": {},
   "source": [
    "empty array"
   ]
  },
  {
   "cell_type": "code",
   "execution_count": 5,
   "id": "29a04376-3cdc-41fa-82c8-caea689fd8a0",
   "metadata": {},
   "outputs": [
    {
     "name": "stdout",
     "output_type": "stream",
     "text": [
      "[5.e-324 4.e-323 4.e-323 4.e-323]\n"
     ]
    }
   ],
   "source": [
    "arr1 = np.empty(4)\n",
    "print(arr1)"
   ]
  },
  {
   "cell_type": "code",
   "execution_count": 7,
   "id": "c813759e-bec7-4f0f-a599-83495d7ddea9",
   "metadata": {},
   "outputs": [
    {
     "name": "stdout",
     "output_type": "stream",
     "text": [
      "[0 1 2 3 4]\n"
     ]
    }
   ],
   "source": [
    "arr2 = np.arange(5)\n",
    "print(arr2)"
   ]
  },
  {
   "cell_type": "code",
   "execution_count": 11,
   "id": "bab43fbc-e03d-487b-9837-96b403e4388e",
   "metadata": {},
   "outputs": [
    {
     "name": "stdout",
     "output_type": "stream",
     "text": [
      "[[1. 0. 0.]\n",
      " [0. 1. 0.]\n",
      " [0. 0. 1.]]\n"
     ]
    }
   ],
   "source": [
    "arr4 = np.identity(3)\n",
    "print(arr4)"
   ]
  },
  {
   "cell_type": "code",
   "execution_count": 13,
   "id": "122e5e4b-6d6f-496e-9905-c2222a568fc6",
   "metadata": {},
   "outputs": [
    {
     "name": "stdout",
     "output_type": "stream",
     "text": [
      "[ 0.  5. 10. 15. 20.]\n"
     ]
    }
   ],
   "source": [
    "#linspace\n",
    "arr_lin = np.linspace(0,20, num=5)\n",
    "print(arr_lin)"
   ]
  },
  {
   "cell_type": "code",
   "execution_count": 21,
   "id": "6896975c-7185-4b19-89fe-7a974a45eff5",
   "metadata": {},
   "outputs": [
    {
     "name": "stdout",
     "output_type": "stream",
     "text": [
      "[0.34446861 0.3842882  0.11784799 0.45686568]\n",
      "[ 0.76479609 -1.16044317  0.35214637 -0.34281047  1.48873687]\n",
      "[0.24181523 0.92180422 0.44432115 0.4149966 ]\n",
      "[4 3 4 2]\n"
     ]
    }
   ],
   "source": [
    "#random\n",
    "arr_rand = np.random.rand(4)\n",
    "print(arr_rand)\n",
    "\n",
    "arr_randn = np.random.randn(5)\n",
    "print(arr_randn)\n",
    "\n",
    "arr_ranf = np.random.ranf(4)\n",
    "print(arr_ranf)\n",
    "\n",
    "arr_randint = np.random.randint(5, size=(4))\n",
    "print(arr_randint)"
   ]
  },
  {
   "cell_type": "markdown",
   "id": "d481f6c9-e201-46c6-8095-63ad1bb98477",
   "metadata": {},
   "source": [
    " 2D Arithmetic"
   ]
  },
  {
   "cell_type": "code",
   "execution_count": 23,
   "id": "87f2e309-90d0-48bc-b386-7435f80ac8fd",
   "metadata": {},
   "outputs": [
    {
     "name": "stdout",
     "output_type": "stream",
     "text": [
      "[[ 6  8 10 12]\n",
      " [12 10  8  6]]\n"
     ]
    }
   ],
   "source": [
    "var2 = np.array([[1,2,3,4],[4,3,2,1]])\n",
    "var3 = np.array([[5,6,7,8],[8,7,6,5]])\n",
    "\n",
    "varadd = var2+var3\n",
    "print(varadd)"
   ]
  },
  {
   "cell_type": "code",
   "execution_count": 25,
   "id": "6979f564-4132-45ad-9427-bde495d8c512",
   "metadata": {},
   "outputs": [
    {
     "name": "stdout",
     "output_type": "stream",
     "text": [
      "[1 2 3 3]\n"
     ]
    }
   ],
   "source": [
    "var3 = np.array([[1,2,3,4],[7,8,9,3]])\n",
    "\n",
    "print(np.min(var3,axis=0))"
   ]
  },
  {
   "cell_type": "code",
   "execution_count": 26,
   "id": "c3a3d553-592e-4888-bf0c-fdbd3ce4d084",
   "metadata": {},
   "outputs": [
    {
     "name": "stdout",
     "output_type": "stream",
     "text": [
      "[1 3 6]\n"
     ]
    }
   ],
   "source": [
    "var4 = np.array([1,2,3])\n",
    "print(np.cumsum(var4))"
   ]
  },
  {
   "cell_type": "markdown",
   "id": "e1fb39e1-d617-4b4d-aadf-322dddb72b2b",
   "metadata": {},
   "source": [
    "#changing dimension of array from 2D to 3D array "
   ]
  },
  {
   "cell_type": "code",
   "execution_count": 27,
   "id": "b02015d1-df89-4f39-8958-2a6dbf397333",
   "metadata": {},
   "outputs": [
    {
     "name": "stdout",
     "output_type": "stream",
     "text": [
      "[[1 2]\n",
      " [3 4]\n",
      " [5 6]]\n"
     ]
    }
   ],
   "source": [
    "var5 = np.array([1,2,3,4,5,6])\n",
    "\n",
    "con = var5.reshape(3,2)\n",
    "print(con)"
   ]
  }
 ],
 "metadata": {
  "kernelspec": {
   "display_name": "Python 3 (ipykernel)",
   "language": "python",
   "name": "python3"
  },
  "language_info": {
   "codemirror_mode": {
    "name": "ipython",
    "version": 3
   },
   "file_extension": ".py",
   "mimetype": "text/x-python",
   "name": "python",
   "nbconvert_exporter": "python",
   "pygments_lexer": "ipython3",
   "version": "3.11.3"
  }
 },
 "nbformat": 4,
 "nbformat_minor": 5
}
