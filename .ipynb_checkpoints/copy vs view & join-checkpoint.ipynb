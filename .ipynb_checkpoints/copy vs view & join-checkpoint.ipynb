{
 "cells": [
  {
   "cell_type": "code",
   "execution_count": 1,
   "id": "33ca6c75-6fb3-4268-8885-6b9b4f9f7fae",
   "metadata": {},
   "outputs": [],
   "source": [
    "import numpy as np"
   ]
  },
  {
   "cell_type": "code",
   "execution_count": 7,
   "id": "56831749-2285-4144-ab7d-ac665d77a8f4",
   "metadata": {},
   "outputs": [
    {
     "name": "stdout",
     "output_type": "stream",
     "text": [
      "[1 2 3]\n"
     ]
    }
   ],
   "source": [
    "var = np.array([1,2,3])\n",
    "co = var.copy()\n",
    "var[1] = 3   #main diff.\n",
    "print(co)"
   ]
  },
  {
   "cell_type": "code",
   "execution_count": 6,
   "id": "6451461c-f2aa-4e7a-8eb6-c5972698c8a7",
   "metadata": {},
   "outputs": [
    {
     "name": "stdout",
     "output_type": "stream",
     "text": [
      "[1 3 4]\n"
     ]
    }
   ],
   "source": [
    "var1= np.array([1,2,4])\n",
    "co1 =  var1.view()\n",
    "var1[1] = 3   #main diff.\n",
    "print(co1)"
   ]
  },
  {
   "cell_type": "markdown",
   "id": "46bd277d-a665-4c43-ae6e-4583cdfd8114",
   "metadata": {},
   "source": [
    "#Join an array"
   ]
  },
  {
   "cell_type": "code",
   "execution_count": 8,
   "id": "a70d9a1f-6536-4fec-aa6a-11d32c783fd5",
   "metadata": {},
   "outputs": [
    {
     "name": "stdout",
     "output_type": "stream",
     "text": [
      "[1 2 3 4 9 8 7 6]\n"
     ]
    }
   ],
   "source": [
    "var_join = np.array([1,2,3,4]) \n",
    "var_join1 = np.array([9,8,7,6]) \n",
    "\n",
    "var_concat = np.concatenate((var_join,var_join1))\n",
    "print(var_concat)"
   ]
  },
  {
   "cell_type": "code",
   "execution_count": 15,
   "id": "69252f55-461f-4756-a1b1-cecb8b64d423",
   "metadata": {},
   "outputs": [
    {
     "name": "stdout",
     "output_type": "stream",
     "text": [
      "[[1 2]\n",
      " [3 4]\n",
      " [9 8]\n",
      " [7 6]]\n"
     ]
    }
   ],
   "source": [
    "var_join2 = np.array([[1,2],[3,4]])\n",
    "var_join3 = np.array([[9,8],[7,6]])\n",
    "\n",
    "var_concat2 = np.concatenate((var_join2,var_join3), axis = 0)\n",
    "\n",
    "print(var_concat2)"
   ]
  },
  {
   "cell_type": "code",
   "execution_count": 26,
   "id": "25802f61-5cf0-4830-b26d-50f3097ade8d",
   "metadata": {},
   "outputs": [
    {
     "name": "stdout",
     "output_type": "stream",
     "text": [
      "[[1 9]\n",
      " [2 8]\n",
      " [3 7]\n",
      " [4 6]]\n"
     ]
    }
   ],
   "source": [
    "var_2 = np.array([1,2,3,4])\n",
    "var_3 = np.array([9,8,7,6])\n",
    "\n",
    "a_new = np.stack((var_2,var_3),axis=1)\n",
    "print(a_new)"
   ]
  },
  {
   "cell_type": "code",
   "execution_count": 24,
   "id": "a7d7ec6a-960d-4f18-9ce5-cee6f55b98a0",
   "metadata": {},
   "outputs": [
    {
     "name": "stdout",
     "output_type": "stream",
     "text": [
      "[[1 2 3 4]\n",
      " [9 8 7 6]]\n"
     ]
    }
   ],
   "source": [
    "var_2 = np.array([1,2,3,4])\n",
    "var_3 = np.array([9,8,7,6])\n",
    "\n",
    "a_new = np.vstack((var_2,var_3)) #column\n",
    "print(a_new)"
   ]
  },
  {
   "cell_type": "code",
   "execution_count": 25,
   "id": "bef67c2f-8147-4a81-8a5c-ff389143fecb",
   "metadata": {},
   "outputs": [
    {
     "name": "stdout",
     "output_type": "stream",
     "text": [
      "[1 2 3 4 9 8 7 6]\n"
     ]
    }
   ],
   "source": [
    "var_2 = np.array([1,2,3,4])\n",
    "var_3 = np.array([9,8,7,6])\n",
    "\n",
    "a_new = np.hstack((var_2,var_3)) #row\n",
    "print(a_new)"
   ]
  },
  {
   "cell_type": "code",
   "execution_count": 27,
   "id": "adeeafdc-f0f7-4e6e-b48e-906652d0cae6",
   "metadata": {},
   "outputs": [
    {
     "name": "stdout",
     "output_type": "stream",
     "text": [
      "[[[1 9]\n",
      "  [2 8]\n",
      "  [3 7]\n",
      "  [4 6]]]\n"
     ]
    }
   ],
   "source": [
    "var_2 = np.array([1,2,3,4])\n",
    "var_3 = np.array([9,8,7,6])\n",
    "\n",
    "a_new = np.dstack((var_2,var_3))\n",
    "print(a_new)"
   ]
  },
  {
   "cell_type": "markdown",
   "id": "ac61b7a7-69c6-4f7f-87a9-dbab602edd64",
   "metadata": {},
   "source": [
    "#split the array"
   ]
  },
  {
   "cell_type": "code",
   "execution_count": null,
   "id": "e34546e8-c5aa-48c2-a222-1cfb83d3e7d3",
   "metadata": {},
   "outputs": [],
   "source": []
  }
 ],
 "metadata": {
  "kernelspec": {
   "display_name": "Python 3 (ipykernel)",
   "language": "python",
   "name": "python3"
  },
  "language_info": {
   "codemirror_mode": {
    "name": "ipython",
    "version": 3
   },
   "file_extension": ".py",
   "mimetype": "text/x-python",
   "name": "python",
   "nbconvert_exporter": "python",
   "pygments_lexer": "ipython3",
   "version": "3.11.3"
  }
 },
 "nbformat": 4,
 "nbformat_minor": 5
}
