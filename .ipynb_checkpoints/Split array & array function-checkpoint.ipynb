{
 "cells": [
  {
   "cell_type": "code",
   "execution_count": 1,
   "id": "de723ffc-5854-4916-984c-1d0eae8f5445",
   "metadata": {},
   "outputs": [],
   "source": [
    "import numpy as np"
   ]
  },
  {
   "cell_type": "code",
   "execution_count": 8,
   "id": "ba820c6e-884c-4617-ac90-0a72f167f6e5",
   "metadata": {},
   "outputs": [
    {
     "name": "stdout",
     "output_type": "stream",
     "text": [
      "[array([1, 2]), array([3]), array([4])]\n"
     ]
    }
   ],
   "source": [
    "var = np.array([1,2,3,4])\n",
    "split_1 = np.array_split(var,3)\n",
    "print(split_1)"
   ]
  },
  {
   "cell_type": "code",
   "execution_count": 16,
   "id": "b453d61d-3cbe-4bf3-a283-b3ca64de81d7",
   "metadata": {},
   "outputs": [
    {
     "name": "stdout",
     "output_type": "stream",
     "text": [
      "[array([[1],\n",
      "       [3],\n",
      "       [5]]), array([[2],\n",
      "       [4],\n",
      "       [6]])]\n"
     ]
    }
   ],
   "source": [
    "var1 = np.array([[1,2],[3,4],[5,6]])\n",
    "split_2 = np.array_split(var1,2,axis=1)\n",
    "print(split_2)"
   ]
  },
  {
   "cell_type": "markdown",
   "id": "b4e383b0-7cf2-49ee-8289-18c194627e51",
   "metadata": {},
   "source": [
    "#searching"
   ]
  },
  {
   "cell_type": "code",
   "execution_count": 17,
   "id": "b9538eb3-374c-417f-a2af-999adc0aa262",
   "metadata": {},
   "outputs": [
    {
     "name": "stdout",
     "output_type": "stream",
     "text": [
      "(array([1, 4, 6], dtype=int64),)\n"
     ]
    }
   ],
   "source": [
    "var3 = np.array([4,2,3,4,2,5,2,5,6,7])\n",
    "\n",
    "x = np.where(var3 == 2)\n",
    "print(x)"
   ]
  },
  {
   "cell_type": "markdown",
   "id": "bdeb4c51-d3ea-4d99-bd82-e6d0070114ea",
   "metadata": {},
   "source": [
    "#search sorted array"
   ]
  },
  {
   "cell_type": "code",
   "execution_count": 20,
   "id": "913e92ad-3237-49ff-995b-a6c7a1ce0b40",
   "metadata": {},
   "outputs": [
    {
     "name": "stdout",
     "output_type": "stream",
     "text": [
      "10\n"
     ]
    }
   ],
   "source": [
    "var4 = np.array([4,2,3,4,2,5,2,5,6,7])\n",
    "\n",
    "x1 = np.searchsorted(var4, 8)\n",
    "print(x1)"
   ]
  },
  {
   "cell_type": "code",
   "execution_count": 22,
   "id": "6687a5a3-2d70-4d8a-8cf2-68ba049cfa55",
   "metadata": {},
   "outputs": [
    {
     "name": "stdout",
     "output_type": "stream",
     "text": [
      "[ 8 10 10]\n"
     ]
    }
   ],
   "source": [
    "var4 = np.array([4,2,3,4,2,5,2,5,6,7])\n",
    "\n",
    "x2 = np.searchsorted(var4, [5,7,8],side='right')\n",
    "print(x2)"
   ]
  },
  {
   "cell_type": "markdown",
   "id": "87e348c3-dee4-41e0-b3a6-93c91753fdd1",
   "metadata": {},
   "source": [
    "Sort"
   ]
  },
  {
   "cell_type": "code",
   "execution_count": 23,
   "id": "bde5595e-d094-48f8-b752-2f5ed70fb384",
   "metadata": {},
   "outputs": [
    {
     "name": "stdout",
     "output_type": "stream",
     "text": [
      "[2 2 3 4 5 6 7 8 9]\n"
     ]
    }
   ],
   "source": [
    "var_sort = np.array([2,4,7,8,5,2,3,6,9])\n",
    "print(np.sort(var_sort))"
   ]
  },
  {
   "cell_type": "code",
   "execution_count": 24,
   "id": "035bd9b8-6fc0-40b5-a33c-616b275f1cb8",
   "metadata": {},
   "outputs": [
    {
     "name": "stdout",
     "output_type": "stream",
     "text": [
      "['a' 'd' 's']\n"
     ]
    }
   ],
   "source": [
    "var_sort1 = np.array(['s','d','a'])\n",
    "print(np.sort(var_sort1))"
   ]
  },
  {
   "cell_type": "code",
   "execution_count": 26,
   "id": "113df892-eee9-4235-b9d6-50b0560e05ff",
   "metadata": {},
   "outputs": [
    {
     "name": "stdout",
     "output_type": "stream",
     "text": [
      "[[2 4]\n",
      " [7 8]\n",
      " [2 5]\n",
      " [3 6]\n",
      " [8 9]]\n"
     ]
    }
   ],
   "source": [
    "var_sort3 = np.array([[2,4],[7,8],[5,2],[3,6],[9,8]])\n",
    "print(np.sort(var_sort3))"
   ]
  },
  {
   "cell_type": "markdown",
   "id": "7f2dc915-f77e-4c4d-97d5-9440d3e3f664",
   "metadata": {},
   "source": [
    "#Filter Array"
   ]
  },
  {
   "cell_type": "code",
   "execution_count": 27,
   "id": "d13da84b-6a20-4eee-8dd4-7a06da5c5986",
   "metadata": {},
   "outputs": [
    {
     "name": "stdout",
     "output_type": "stream",
     "text": [
      "['a' 'd']\n"
     ]
    }
   ],
   "source": [
    "var_filter = np.array(['a','s','d','f'])\n",
    "f = [True,False,True,False]\n",
    "new_arr = var_filter[f]\n",
    "print(new_arr)"
   ]
  },
  {
   "cell_type": "markdown",
   "id": "cb6a11d5-fa51-42ee-849d-5bedf64414a1",
   "metadata": {},
   "source": [
    "#Shuffle"
   ]
  },
  {
   "cell_type": "code",
   "execution_count": 29,
   "id": "186f0cdb-f803-4150-a859-d29e576def63",
   "metadata": {},
   "outputs": [
    {
     "name": "stdout",
     "output_type": "stream",
     "text": [
      "[2 4 1 3]\n"
     ]
    }
   ],
   "source": [
    "var_shuffle = np.array([1,2,3.4])\n",
    "np.random.shuffle(var)\n",
    "print(var)"
   ]
  },
  {
   "cell_type": "code",
   "execution_count": 30,
   "id": "22603a74-4417-4381-b4e4-cac863c36255",
   "metadata": {},
   "outputs": [
    {
     "name": "stdout",
     "output_type": "stream",
     "text": [
      "[1 2 3 4 5 6]\n"
     ]
    }
   ],
   "source": [
    "var_uni = np.array([1,2,1,3,4,3,5,6])\n",
    "new_uni = np.unique(var_uni)\n",
    "print(new_uni)"
   ]
  },
  {
   "cell_type": "code",
   "execution_count": 34,
   "id": "1dce5245-e545-4791-a7d4-3b94f84f6ddc",
   "metadata": {},
   "outputs": [
    {
     "name": "stdout",
     "output_type": "stream",
     "text": [
      "(array([1, 2, 3, 4, 5, 6]), array([0, 1, 3, 4, 6, 7], dtype=int64), array([2, 1, 2, 1, 1, 1], dtype=int64))\n"
     ]
    }
   ],
   "source": [
    "var_uni1 = np.array([1,2,1,3,4,3,5,6])\n",
    "new_uni1 = np.unique(var_uni1,return_index = True, return_counts = True)\n",
    "print(new_uni1)"
   ]
  },
  {
   "cell_type": "code",
   "execution_count": 35,
   "id": "e1d4171d-2c5e-4113-9b77-bd798a856c28",
   "metadata": {},
   "outputs": [
    {
     "name": "stdout",
     "output_type": "stream",
     "text": [
      "[[1 2 3]\n",
      " [4 5 6]]\n"
     ]
    }
   ],
   "source": [
    "var_resize = np.array([1,2,3,4,5,6])\n",
    "new_resize = np.resize(var_resize,(2,3))\n",
    "print(new_resize)"
   ]
  },
  {
   "cell_type": "code",
   "execution_count": 36,
   "id": "87f35eb4-2154-4661-9d82-9917eb80df82",
   "metadata": {},
   "outputs": [
    {
     "name": "stdout",
     "output_type": "stream",
     "text": [
      "Writing file.txt\n"
     ]
    }
   ],
   "source": [
    "%%writefile file.txt\n",
    "hello this is file made of text"
   ]
  },
  {
   "cell_type": "code",
   "execution_count": 43,
   "id": "ae3b1488-6372-4ef6-bed7-45d85694f56f",
   "metadata": {},
   "outputs": [
    {
     "name": "stdout",
     "output_type": "stream",
     "text": [
      "[[1 2 3]\n",
      " [4 5 6]]\n",
      "[1 2 3 4 5 6]\n",
      "[1 4 2 5 3 6]\n"
     ]
    }
   ],
   "source": [
    "var_resize = np.array([1,2,3,4,5,6])\n",
    "new_resize = np.resize(var_resize,(2,3))\n",
    "print(new_resize)\n",
    "\n",
    "print(new_resize.flatten(order='C'))\n",
    "print(new_resize.flatten(order='f'))"
   ]
  },
  {
   "cell_type": "code",
   "execution_count": 45,
   "id": "86420da7-157f-4619-80ee-501beb4e4abc",
   "metadata": {},
   "outputs": [
    {
     "name": "stdout",
     "output_type": "stream",
     "text": [
      "[[1 2 3]\n",
      " [4 5 6]]\n",
      "[1 2 3 4 5 6]\n",
      "[1 4 2 5 3 6]\n"
     ]
    }
   ],
   "source": [
    "var_resize = np.array([1,2,3,4,5,6])\n",
    "new_resize = np.resize(var_resize,(2,3))\n",
    "print(new_resize)\n",
    "\n",
    "print(np.ravel(new_resize,order='C'))\n",
    "print(np.ravel(new_resize,order='f'))"
   ]
  },
  {
   "cell_type": "code",
   "execution_count": null,
   "id": "287b86ef-cde3-46c9-aa7b-7b0accacc0d0",
   "metadata": {},
   "outputs": [],
   "source": []
  }
 ],
 "metadata": {
  "kernelspec": {
   "display_name": "Python 3 (ipykernel)",
   "language": "python",
   "name": "python3"
  },
  "language_info": {
   "codemirror_mode": {
    "name": "ipython",
    "version": 3
   },
   "file_extension": ".py",
   "mimetype": "text/x-python",
   "name": "python",
   "nbconvert_exporter": "python",
   "pygments_lexer": "ipython3",
   "version": "3.11.3"
  }
 },
 "nbformat": 4,
 "nbformat_minor": 5
}
