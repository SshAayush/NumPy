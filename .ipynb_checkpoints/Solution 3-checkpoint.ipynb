{
 "cells": [
  {
   "cell_type": "markdown",
   "id": "89388607-3897-45ab-baed-ab85ff5ee755",
   "metadata": {},
   "source": [
    "Basic Level:\n",
    "\n",
    "1.Create a NumPy array containing 10 random integers between 1 and 100."
   ]
  },
  {
   "cell_type": "code",
   "execution_count": 3,
   "id": "8c567fb6-f655-4861-a2df-e46bdfecc1bb",
   "metadata": {},
   "outputs": [
    {
     "name": "stdout",
     "output_type": "stream",
     "text": [
      "[34 99  8 68 85 92 84 52 78 56]\n"
     ]
    }
   ],
   "source": [
    "import numpy as np\n",
    "rand_arr = np.random.randint(1,101, size=10)\n",
    "print(rand_arr)"
   ]
  },
  {
   "cell_type": "markdown",
   "id": "e7d685fd-6b65-4f0e-b9dd-f93fea7e6b99",
   "metadata": {},
   "source": [
    "2.Calculate the mean, median, and standard deviation of the array."
   ]
  },
  {
   "cell_type": "code",
   "execution_count": 6,
   "id": "737d51ab-ef61-40b8-baa3-0bebe2d52455",
   "metadata": {},
   "outputs": [
    {
     "name": "stdout",
     "output_type": "stream",
     "text": [
      "8.285714285714286\n",
      "10.0\n",
      "3.7307328163430276\n"
     ]
    }
   ],
   "source": [
    "calc_arr = np.array([5,10,12,13,10,2,6])\n",
    "print(np.mean(calc_arr))\n",
    "print(np.median(calc_arr))\n",
    "print(np.std(calc_arr))"
   ]
  },
  {
   "cell_type": "markdown",
   "id": "57f1ef56-2b08-4ca4-a616-4ae4ec07c63e",
   "metadata": {},
   "source": [
    "3.Create a 2D NumPy array containing random floats between 0 and 1 with dimensions (5, 3)."
   ]
  },
  {
   "cell_type": "code",
   "execution_count": 13,
   "id": "afbc5284-11f4-42b1-bd6d-c229d96337c5",
   "metadata": {},
   "outputs": [
    {
     "name": "stdout",
     "output_type": "stream",
     "text": [
      "[[0.32065248 0.07748969 0.72207158]\n",
      " [0.47788353 0.1234358  0.8813763 ]\n",
      " [0.44062329 0.21609262 0.17030705]\n",
      " [0.49020856 0.16213815 0.23547814]\n",
      " [0.94727144 0.42823229 0.86793523]]\n"
     ]
    }
   ],
   "source": [
    "rand2d_arr = np.random.rand(5,3)\n",
    "print(rand2d_arr)"
   ]
  },
  {
   "cell_type": "markdown",
   "id": "b05a03ef-0c33-4eb5-b34f-3076348b3ce6",
   "metadata": {},
   "source": [
    "4.Access a specific element at a given row and column index in the 2D array."
   ]
  },
  {
   "cell_type": "code",
   "execution_count": 24,
   "id": "cb444c09-5c94-4027-a309-678080b68e69",
   "metadata": {},
   "outputs": [
    {
     "name": "stdout",
     "output_type": "stream",
     "text": [
      "[[ 2 10  3  5]\n",
      " [20 25 11  3]\n",
      " [20 13 17  3]]\n"
     ]
    },
    {
     "data": {
      "text/plain": [
       "3"
      ]
     },
     "execution_count": 24,
     "metadata": {},
     "output_type": "execute_result"
    }
   ],
   "source": [
    "ind2d_arr = np.array([[2,10,3,5],[20,25,11,3],[20,13,17,3]])\n",
    "print(ind2d_arr)\n",
    "ind2d_arr[1:2,1:3]\n",
    "ind2d_arr[1,3]"
   ]
  },
  {
   "cell_type": "markdown",
   "id": "6a2661d0-5daf-4bc2-979f-cd8a7181a86b",
   "metadata": {},
   "source": [
    "5.Slice the 2D array to obtain a sub-array containing specific rows or columns."
   ]
  },
  {
   "cell_type": "code",
   "execution_count": 26,
   "id": "23cf209f-a2d3-44d9-b056-60e60316057e",
   "metadata": {},
   "outputs": [
    {
     "data": {
      "text/plain": [
       "array([[25, 11]])"
      ]
     },
     "execution_count": 26,
     "metadata": {},
     "output_type": "execute_result"
    }
   ],
   "source": [
    "ind2d_arr1 = np.array([[2,10,3,5],[20,25,11,3],[20,13,17,3]])\n",
    "ind2d_arr[0:2,1:3]"
   ]
  },
  {
   "cell_type": "markdown",
   "id": "6fb3061a-dabc-4d4e-844e-f17d53527fbc",
   "metadata": {},
   "source": [
    "6.Add two NumPy arrays of the same shape element-wise."
   ]
  },
  {
   "cell_type": "code",
   "execution_count": 29,
   "id": "b92b0fca-3008-4cf2-a95b-e45753d65edc",
   "metadata": {},
   "outputs": [
    {
     "name": "stdout",
     "output_type": "stream",
     "text": [
      "sum:  [11 22 60  5]\n"
     ]
    }
   ],
   "source": [
    "sum_arr1 = np.array([1,20,30,2])\n",
    "sum_arr2 = np.array([10,2,30,3])\n",
    "print('sum: ',sum_arr1 + sum_arr2)"
   ]
  },
  {
   "cell_type": "markdown",
   "id": "2010cdc7-98ee-4a63-9fa6-bd1cbee824b9",
   "metadata": {},
   "source": [
    "7.Multiply a NumPy array by a scalar value."
   ]
  },
  {
   "cell_type": "code",
   "execution_count": 31,
   "id": "0dc4f0af-4bd0-4ab6-9501-501d6551e70d",
   "metadata": {},
   "outputs": [
    {
     "name": "stdout",
     "output_type": "stream",
     "text": [
      "[ 50 100 150 200]\n"
     ]
    }
   ],
   "source": [
    "mul_arr = np.array([10,20,30,40])\n",
    "print(mul_arr * 5)"
   ]
  },
  {
   "cell_type": "markdown",
   "id": "f076b250-422a-4171-bcc0-8e0b375bde4d",
   "metadata": {},
   "source": [
    "8.Print the maximum and minimum values of each column in the 2D array."
   ]
  },
  {
   "cell_type": "code",
   "execution_count": 34,
   "id": "8a8dbc95-babe-40ad-94b8-e2ca1315e200",
   "metadata": {},
   "outputs": [
    {
     "name": "stdout",
     "output_type": "stream",
     "text": [
      "[40 30 60]\n",
      "[20  5  1]\n"
     ]
    }
   ],
   "source": [
    "maxMin_arr = np.array([[20,30,1],[40,5,60]])\n",
    "print(np.max(maxMin_arr, axis = 0))\n",
    "print(np.min(maxMin_arr, axis = 0))"
   ]
  },
  {
   "cell_type": "markdown",
   "id": "66976c29-ba3f-4322-ad7a-3d70167f8297",
   "metadata": {},
   "source": [
    "9.Count the occurrences of each unique value in the array using np.bincount().\n"
   ]
  },
  {
   "cell_type": "code",
   "execution_count": 40,
   "id": "c805abb3-6fcc-463d-8b00-b1f892441fbe",
   "metadata": {},
   "outputs": [
    {
     "name": "stdout",
     "output_type": "stream",
     "text": [
      "[0 1 0 1 0 0 0 0 0 0 3 1 0 0 0 0 0 0 0 0 4]\n",
      "20\n"
     ]
    }
   ],
   "source": [
    "countBin_arr = np.array([10,20,1,20,20,3,20,10,11,10])\n",
    "print(np.bincount(countBin_arr))\n",
    "print(np.argmax(np.bincount(countBin_arr)))"
   ]
  },
  {
   "cell_type": "markdown",
   "id": "79f45be0-8117-4b1e-8ff9-1380baac3570",
   "metadata": {},
   "source": [
    "10.Reshape a 1D array into a 2D matrix with a specific number of rows or columns."
   ]
  },
  {
   "cell_type": "code",
   "execution_count": 43,
   "id": "5638cf3d-a5fc-4492-bfea-7b6c05d6f5ee",
   "metadata": {},
   "outputs": [
    {
     "name": "stdout",
     "output_type": "stream",
     "text": [
      "[[1 2 3]\n",
      " [4 5 6]\n",
      " [7 8 9]]\n"
     ]
    }
   ],
   "source": [
    "re1D_arr = np.array([1,2,3,4,5,6,7,8,9])\n",
    "print(np.reshape(re1D_arr, (3,3)))"
   ]
  },
  {
   "cell_type": "markdown",
   "id": "ef8fd44c-edcf-47ab-80aa-f03572368766",
   "metadata": {},
   "source": [
    "Intermediate Level:\n",
    "\n",
    "1.Write a NumPy function that takes a 2D array and returns the sum of all diagonal elements."
   ]
  },
  {
   "cell_type": "code",
   "execution_count": 51,
   "id": "fc70b95a-d413-4564-bbba-e9ea2bbb1a19",
   "metadata": {},
   "outputs": [
    {
     "name": "stdout",
     "output_type": "stream",
     "text": [
      "50\n"
     ]
    }
   ],
   "source": [
    "def sumDiagonal(a):\n",
    "    if a.ndim != 2:\n",
    "        raise ValueError(\"It is not 2D array\")\n",
    "    return np.trace(a)\n",
    "\n",
    "sum2D_arr = np.array([[10,20],[30,40]])\n",
    "print(sumDiagonal(sum2D_arr))"
   ]
  },
  {
   "cell_type": "code",
   "execution_count": null,
   "id": "a38d95dd-e53b-4c23-b581-e598949ce8d9",
   "metadata": {},
   "outputs": [],
   "source": []
  }
 ],
 "metadata": {
  "kernelspec": {
   "display_name": "Python 3 (ipykernel)",
   "language": "python",
   "name": "python3"
  },
  "language_info": {
   "codemirror_mode": {
    "name": "ipython",
    "version": 3
   },
   "file_extension": ".py",
   "mimetype": "text/x-python",
   "name": "python",
   "nbconvert_exporter": "python",
   "pygments_lexer": "ipython3",
   "version": "3.11.3"
  }
 },
 "nbformat": 4,
 "nbformat_minor": 5
}
