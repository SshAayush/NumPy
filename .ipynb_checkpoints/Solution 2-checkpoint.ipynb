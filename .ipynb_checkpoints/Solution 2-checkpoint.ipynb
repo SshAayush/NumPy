{
 "cells": [
  {
   "cell_type": "markdown",
   "id": "25edcfa5-4938-4c2c-b9c9-0ae6adbd2e83",
   "metadata": {},
   "source": [
    "1. Create a NumPy array containing the squares of the first 15 odd numbers."
   ]
  },
  {
   "cell_type": "code",
   "execution_count": 8,
   "id": "b979b8ce-b5fc-4fbc-839e-aaf356f43342",
   "metadata": {},
   "outputs": [
    {
     "name": "stdout",
     "output_type": "stream",
     "text": [
      "[  1   9  25  49  81 121 169 225]\n"
     ]
    }
   ],
   "source": [
    "import numpy as np\n",
    "odd_dumarr = np.arange(1,16)\n",
    "odd_arr = odd_dumarr[odd_dumarr % 2 != 0]\n",
    "sq_odd = odd_arr ** 2\n",
    "print(sq_odd)"
   ]
  },
  {
   "cell_type": "markdown",
   "id": "c31d6791-9896-44f7-98ce-9f9b13d46088",
   "metadata": {},
   "source": [
    "2.Calculate the sum of all elements in a NumPy array of exam grades."
   ]
  },
  {
   "cell_type": "code",
   "execution_count": 10,
   "id": "28595bc7-f3d9-47be-b39d-35e2c6948792",
   "metadata": {},
   "outputs": [
    {
     "name": "stdout",
     "output_type": "stream",
     "text": [
      "16.65\n"
     ]
    }
   ],
   "source": [
    "grade = np.array([3.2,3.0,3.8,3.25,3.4])\n",
    "sum_arr = np.sum(grade)\n",
    "print(sum_arr)"
   ]
  },
  {
   "cell_type": "markdown",
   "id": "43e99a42-385b-4dec-8ba8-11fc0f707f97",
   "metadata": {},
   "source": [
    "3.Write a NumPy function that checks if two arrays contain the same elements in the same order."
   ]
  },
  {
   "cell_type": "code",
   "execution_count": 25,
   "id": "6b39a9f9-98d8-435b-8ada-25dc6e16d3d1",
   "metadata": {},
   "outputs": [
    {
     "name": "stdout",
     "output_type": "stream",
     "text": [
      "false\n"
     ]
    }
   ],
   "source": [
    "cmp_arr1 = np.array([1,2,3,4])\n",
    "cmp_arr2 = np.array([1,2,3,4])\n",
    "cmp_arr3 = np.array([1,2,3])\n",
    "if np.array_equal(cmp_arr1,cmp_arr3):\n",
    "    print('true')\n",
    "else:\n",
    "    print('false')"
   ]
  },
  {
   "cell_type": "markdown",
   "id": "5fa614a1-9271-434d-858c-6c14d4f5bc22",
   "metadata": {},
   "source": [
    "4.Combine two NumPy arrays horizontally (side-by-side) to form a new array."
   ]
  },
  {
   "cell_type": "code",
   "execution_count": 30,
   "id": "b75ffed9-c917-4ec3-84be-e852ccaf1a2c",
   "metadata": {},
   "outputs": [
    {
     "name": "stdout",
     "output_type": "stream",
     "text": [
      "[1 2 3 4 5 6 7 8]\n"
     ]
    }
   ],
   "source": [
    "com_arr1 = np.array([1,2,3,4])\n",
    "com_arr2 = np.array([5,6,7,8])\n",
    "\n",
    "com_arr = np.hstack((com_arr1,com_arr2))\n",
    "print(com_arr)"
   ]
  },
  {
   "cell_type": "markdown",
   "id": "5cbcda27-a7fb-441a-957d-8d39e2d026ca",
   "metadata": {},
   "source": [
    "5.Replace all occurrences of a specific number with another number in a NumPy array."
   ]
  },
  {
   "cell_type": "code",
   "execution_count": 6,
   "id": "4a5d2551-91b3-4365-b1d5-9c1fd277e4cf",
   "metadata": {},
   "outputs": [
    {
     "name": "stdout",
     "output_type": "stream",
     "text": [
      "[ 1  2 10  4 10  3 10  4]\n"
     ]
    }
   ],
   "source": [
    "occ_arr = np.array([1,2,5,4,5,3,5,4])\n",
    "occ_arr [occ_arr == 5] = 10\n",
    "print(occ_arr)"
   ]
  },
  {
   "cell_type": "markdown",
   "id": "1731702d-cd9d-4edf-88fe-005a55edc639",
   "metadata": {},
   "source": [
    "Medium\n",
    "1.Calculate the minimum and maximum value in each row of a 2D NumPy array."
   ]
  },
  {
   "cell_type": "code",
   "execution_count": 14,
   "id": "6f9ccfc8-72ac-4cd6-80e6-0aace6ed58bc",
   "metadata": {},
   "outputs": [
    {
     "name": "stdout",
     "output_type": "stream",
     "text": [
      "[[  1 256  30   5   7]\n",
      " [  8  92  10 222  56]]\n",
      "[1 8]\n",
      "[256 222]\n"
     ]
    }
   ],
   "source": [
    "range_array = np.array([[1,256,30,5,7],[8,92,10,222,56]])\n",
    "print(range_array)\n",
    "print(range_array.min(axis = 1))\n",
    "print(range_array.max(axis = 1))"
   ]
  },
  {
   "cell_type": "markdown",
   "id": "8bd6992f-59bf-4d6a-9de8-2bfd5a4fcdf3",
   "metadata": {},
   "source": [
    "2.Count the number of times each unique value appears in a NumPy array."
   ]
  },
  {
   "cell_type": "code",
   "execution_count": 23,
   "id": "9fc8c134-c757-47cb-8199-c5ba28d3954d",
   "metadata": {},
   "outputs": [
    {
     "name": "stdout",
     "output_type": "stream",
     "text": [
      "Value : [1 2 4 5 6] \n",
      "Count : [1 3 1 3 1]\n"
     ]
    }
   ],
   "source": [
    "uni_value = np.array([5,2,5,2,2,6,5,4,1])\n",
    "unique_value , count = np.unique(uni_value, return_counts = True)\n",
    "print(f'Value : {unique_value} \\nCount : {count}')"
   ]
  },
  {
   "cell_type": "markdown",
   "id": "464ec5ba-609b-46b6-a23b-e22e78454d97",
   "metadata": {},
   "source": [
    "3.Write a NumPy function to reverse the order of elements in an array."
   ]
  },
  {
   "cell_type": "code",
   "execution_count": 69,
   "id": "6bac57d6-2cae-4ec4-8c68-de8e3f979b71",
   "metadata": {},
   "outputs": [
    {
     "name": "stdout",
     "output_type": "stream",
     "text": [
      "[6 5 4 3 2 1]\n"
     ]
    }
   ],
   "source": [
    "rev_arr = np.array([1,2,3,4,5,6])\n",
    "temp = rev_arr[::-1]\n",
    "print(temp)"
   ]
  },
  {
   "cell_type": "markdown",
   "id": "0a97b618-2083-441d-9edf-2f0932029b2f",
   "metadata": {},
   "source": [
    "4.Extract all elements within a specific range of values from a NumPy array."
   ]
  },
  {
   "cell_type": "code",
   "execution_count": 73,
   "id": "d16e87a5-37d0-431b-b2e9-39704e2d27f4",
   "metadata": {},
   "outputs": [
    {
     "name": "stdout",
     "output_type": "stream",
     "text": [
      "[20 25 30 50 26]\n"
     ]
    }
   ],
   "source": [
    "ex_arr = np.array([10,20,25,30,50,5,16,26])\n",
    "mask = (ex_arr >= 20) & (ex_arr <= 50)\n",
    "print(ex_arr[mask])"
   ]
  },
  {
   "cell_type": "markdown",
   "id": "c76c538c-2faa-45fe-ba94-bc98148d1598",
   "metadata": {},
   "source": [
    "5.Calculate the dot product of two NumPy arrays."
   ]
  },
  {
   "cell_type": "code",
   "execution_count": 78,
   "id": "2d4e9d20-30d6-467f-a6e3-4afa64cfd6ff",
   "metadata": {},
   "outputs": [
    {
     "name": "stdout",
     "output_type": "stream",
     "text": [
      "[[ 80 150]\n",
      " [135 275]]\n"
     ]
    }
   ],
   "source": [
    "prod_arr1 = np.matrix([[10,20],[30,25]])\n",
    "prod_arr2 = np.matrix([[2,5],[3,5]])\n",
    "dotProd = np.matmul(prod_arr1, prod_arr2)\n",
    "print(dotProd)"
   ]
  },
  {
   "cell_type": "code",
   "execution_count": 79,
   "id": "81c1f5f6-f8e1-4224-b5d8-c03eb7d28289",
   "metadata": {},
   "outputs": [
    {
     "name": "stdout",
     "output_type": "stream",
     "text": [
      "[[ 80 150]\n",
      " [135 275]]\n"
     ]
    }
   ],
   "source": [
    "prod_arr1 = np.array([[10,20],[30,25]])\n",
    "prod_arr2 = np.array([[2,5],[3,5]])\n",
    "dotProd = prod_arr1 @ prod_arr2\n",
    "print(dotProd)"
   ]
  },
  {
   "cell_type": "markdown",
   "id": "f7df2632-e97c-411d-a997-caa4a0ae0b94",
   "metadata": {},
   "source": [
    "Hard:\n",
    "\n",
    "1.Write a NumPy function to rotate a 2D array by 90 degrees."
   ]
  },
  {
   "cell_type": "code",
   "execution_count": 82,
   "id": "1caa7df2-38a2-4ea2-9180-9f08305fd3c2",
   "metadata": {
    "scrolled": true
   },
   "outputs": [
    {
     "name": "stdout",
     "output_type": "stream",
     "text": [
      "[[10 20 30]\n",
      " [40 50 60]]\n",
      "[[30 60]\n",
      " [20 50]\n",
      " [10 40]]\n"
     ]
    }
   ],
   "source": [
    "rot_arr = np.array([[10,20,30],[40,50,60]])\n",
    "print(rot_arr)\n",
    "print(np.rot90(rot_arr))"
   ]
  },
  {
   "cell_type": "markdown",
   "id": "0e20a775-94b3-4729-b2e5-686f6bc420a0",
   "metadata": {},
   "source": [
    "2.Calculate the standard deviation of each column in a 2D NumPy array."
   ]
  },
  {
   "cell_type": "code",
   "execution_count": 90,
   "id": "f70f6953-e74d-479f-872d-a5d540d0bc09",
   "metadata": {},
   "outputs": [
    {
     "name": "stdout",
     "output_type": "stream",
     "text": [
      "[10. 10.]\n"
     ]
    }
   ],
   "source": [
    "sd_arr = np.array([[10,20],[30,40]])\n",
    "sd_result = np.std(sd_arr,axis=0)\n",
    "print(sd_result)"
   ]
  },
  {
   "cell_type": "markdown",
   "id": "d105407d-8c12-4e65-b4b7-b29fde56e087",
   "metadata": {},
   "source": [
    "3.Implement the k-nearest neighbors algorithm using NumPy for finding similar data points. (IDK)"
   ]
  },
  {
   "cell_type": "code",
   "execution_count": 91,
   "id": "1e24ec93-46f1-471c-bbc8-ad56c2d95f73",
   "metadata": {},
   "outputs": [
    {
     "name": "stdout",
     "output_type": "stream",
     "text": [
      "The k nearest neighbors of [2 3] are:\n",
      "- Index: 0, Data point: [1 2]\n",
      "- Index: 1, Data point: [3 4]\n"
     ]
    }
   ],
   "source": [
    "import numpy as np\n",
    "\n",
    "def knn(data, query_point, k):\n",
    "    \"\"\"\n",
    "    Implements the k-nearest neighbors algorithm using NumPy.\n",
    "\n",
    "    Args:\n",
    "        data: A NumPy array representing the dataset.\n",
    "        query_point: A NumPy array representing the query point.\n",
    "        k: The number of nearest neighbors to find.\n",
    "\n",
    "    Returns:\n",
    "        A NumPy array containing the indices of the k nearest neighbors in the data.\n",
    "    \"\"\"\n",
    "\n",
    "    # Calculate distances between the query point and all data points\n",
    "    distances = np.linalg.norm(data - query_point, axis=1)\n",
    "\n",
    "    # Sort distances in ascending order and get the indices of the k nearest neighbors\n",
    "    nearest_neighbors = np.argsort(distances)[:k]\n",
    "\n",
    "    return nearest_neighbors\n",
    "\n",
    "# Example usage\n",
    "data = np.array([[1, 2], [3, 4], [5, 6], [7, 8]])\n",
    "query_point = np.array([2, 3])\n",
    "k = 2\n",
    "\n",
    "nearest_neighbors = knn(data, query_point, k)\n",
    "\n",
    "print(f\"The k nearest neighbors of {query_point} are:\")\n",
    "for i in nearest_neighbors:\n",
    "    print(f\"- Index: {i}, Data point: {data[i]}\")\n"
   ]
  },
  {
   "cell_type": "raw",
   "id": "73083f34-09a9-414a-a359-962f1e021768",
   "metadata": {},
   "source": [
    "4.Apply element-wise operations (e.g., addition, multiplication) between two NumPy arrays of different shapes."
   ]
  },
  {
   "cell_type": "code",
   "execution_count": 102,
   "id": "5471c6c5-4bd0-46a5-8dd9-fd44253afee3",
   "metadata": {},
   "outputs": [
    {
     "name": "stdout",
     "output_type": "stream",
     "text": [
      "[[ 2  4  8]\n",
      " [ 6 13 13]]\n",
      "[[ 0  0  0]\n",
      " [ 0 -3 -1]]\n",
      "[[ 1  4 16]\n",
      " [ 9 40 42]]\n"
     ]
    }
   ],
   "source": [
    "op_arr1 = np.array([[1,2,4],[3,5,6]])\n",
    "op_arr2 = np.array([1,2,4,3,8,7])\n",
    "ap_arr2 = op_arr2.reshape(2,-1)  #-1 means automatically identify the required size of row/conlumn\n",
    "print(op_arr1 + ap_arr2)\n",
    "print(op_arr1 - ap_arr2)\n",
    "print(op_arr1 * ap_arr2)\n"
   ]
  },
  {
   "cell_type": "markdown",
   "id": "11ef3eaa-ee29-4822-9ca8-9c4b3ec602fe",
   "metadata": {},
   "source": [
    "5.Perform basic data analysis tasks (e.g., calculating mean, median, mode) on different columns of a NumPy array with mixed data types (strings, numbers)."
   ]
  },
  {
   "cell_type": "code",
   "execution_count": 144,
   "id": "58eb2682-e0a0-476b-88f3-746d4ad171fb",
   "metadata": {},
   "outputs": [
    {
     "name": "stdout",
     "output_type": "stream",
     "text": [
      "[4.         2.33333333 4.33333333]\n",
      "[4. 3. 5.]\n",
      "3\n"
     ]
    }
   ],
   "source": [
    "calc_arr = np.array([[5,1,2],['4',3,5],['3','3',6]])\n",
    "calc_arr = calc_arr.astype(int)\n",
    "print(np.mean(calc_arr, axis = 0))\n",
    "print(np.median(calc_arr, axis = 0))\n",
    "print(np.argmax(np.bincount(calc_arr.flatten())))  # to find most repeated value"
   ]
  },
  {
   "cell_type": "code",
   "execution_count": null,
   "id": "de9303f7-ef77-4c67-97c1-3fe8fcafe1ba",
   "metadata": {},
   "outputs": [],
   "source": []
  }
 ],
 "metadata": {
  "kernelspec": {
   "display_name": "Python 3 (ipykernel)",
   "language": "python",
   "name": "python3"
  },
  "language_info": {
   "codemirror_mode": {
    "name": "ipython",
    "version": 3
   },
   "file_extension": ".py",
   "mimetype": "text/x-python",
   "name": "python",
   "nbconvert_exporter": "python",
   "pygments_lexer": "ipython3",
   "version": "3.11.3"
  }
 },
 "nbformat": 4,
 "nbformat_minor": 5
}
