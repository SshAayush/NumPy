{
 "cells": [
  {
   "cell_type": "markdown",
   "id": "507c2189-4d6d-452b-a073-5c09121f7195",
   "metadata": {},
   "source": [
    "Matrix"
   ]
  },
  {
   "cell_type": "code",
   "execution_count": 4,
   "id": "a1ce12c3-2831-4847-9140-e5e5dadedacb",
   "metadata": {},
   "outputs": [],
   "source": [
    "import numpy as np"
   ]
  },
  {
   "cell_type": "code",
   "execution_count": 8,
   "id": "ad2f1fe0-19ca-4272-bc3a-5cd3a5afdfb9",
   "metadata": {},
   "outputs": [
    {
     "name": "stdout",
     "output_type": "stream",
     "text": [
      "[[1 2]\n",
      " [1 2]]\n",
      "<class 'numpy.matrix'>\n",
      "\n",
      "[[ 6 12]\n",
      " [ 6 12]]\n",
      "[[ 6 12]\n",
      " [ 6 12]]\n"
     ]
    }
   ],
   "source": [
    "var_mat = np.matrix([[1,2],[1,2]])\n",
    "var_mat2 = np.matrix([[2,4],[2,4]])\n",
    "\n",
    "print(var_mat)\n",
    "print(type(var_mat))\n",
    "print()\n",
    "print(var_mat * var_mat2)\n",
    "print(var_mat.dot(var_mat2))"
   ]
  },
  {
   "cell_type": "code",
   "execution_count": 10,
   "id": "b52dcc7a-f759-4996-81f9-48a1ab6ece9e",
   "metadata": {},
   "outputs": [
    {
     "name": "stdout",
     "output_type": "stream",
     "text": [
      "[[1 2 3]\n",
      " [4 5 6]]\n",
      "[[1 4]\n",
      " [2 5]\n",
      " [3 6]]\n"
     ]
    }
   ],
   "source": [
    "var_mat3 = np.matrix([[1,2,3],[4,5,6]])\n",
    "print(var_mat3)\n",
    "print(np.transpose(var_mat3))"
   ]
  },
  {
   "cell_type": "markdown",
   "id": "ce5193e9-fc46-434b-8999-cb7a3e231428",
   "metadata": {},
   "source": [
    "Inverse"
   ]
  },
  {
   "cell_type": "code",
   "execution_count": 13,
   "id": "b1deb488-c97a-425b-a922-545b2e5fcc69",
   "metadata": {},
   "outputs": [
    {
     "name": "stdout",
     "output_type": "stream",
     "text": [
      "[[1 2]\n",
      " [3 4]]\n",
      "\n",
      "[[-2.   1. ]\n",
      " [ 1.5 -0.5]]\n"
     ]
    }
   ],
   "source": [
    "var_mat4 = np.matrix([[1,2],[3,4]])\n",
    "print(var_mat4)\n",
    "print()\n",
    "print(np.linalg.inv(var_mat4))"
   ]
  },
  {
   "cell_type": "markdown",
   "id": "a1378e4f-ffa6-4f4f-82f0-02723854e286",
   "metadata": {},
   "source": [
    "Power"
   ]
  },
  {
   "cell_type": "code",
   "execution_count": 17,
   "id": "b4cb4941-368a-4e17-a0db-41a1435ddf38",
   "metadata": {},
   "outputs": [
    {
     "name": "stdout",
     "output_type": "stream",
     "text": [
      "[[ 7 10]\n",
      " [15 22]]\n",
      "[[1 0]\n",
      " [0 1]]\n",
      "[[-2.   1. ]\n",
      " [ 1.5 -0.5]]\n"
     ]
    }
   ],
   "source": [
    "var_mat4 = np.matrix([[1,2],[3,4]])\n",
    "print(np.linalg.matrix_power(var_mat4,2))\n",
    "print(np.linalg.matrix_power(var_mat4,0))\n",
    "print(np.linalg.matrix_power(var_mat4,-1))"
   ]
  },
  {
   "cell_type": "markdown",
   "id": "4e6267e3-49b8-46f6-b917-525a984ce125",
   "metadata": {},
   "source": [
    "Determinate"
   ]
  },
  {
   "cell_type": "code",
   "execution_count": 19,
   "id": "2285d8bb-ae60-4acc-96bf-d5a84d6628bd",
   "metadata": {},
   "outputs": [
    {
     "name": "stdout",
     "output_type": "stream",
     "text": [
      "0.0\n"
     ]
    }
   ],
   "source": [
    "var_mat5 = np.matrix([[1,2,3],[3,4,3],[1,2,3]])\n",
    "print(np.linalg.det(var_mat5))"
   ]
  },
  {
   "cell_type": "code",
   "execution_count": null,
   "id": "0d01982b-251c-4306-b2b3-b3feeaa689a5",
   "metadata": {},
   "outputs": [],
   "source": []
  }
 ],
 "metadata": {
  "kernelspec": {
   "display_name": "Python 3 (ipykernel)",
   "language": "python",
   "name": "python3"
  },
  "language_info": {
   "codemirror_mode": {
    "name": "ipython",
    "version": 3
   },
   "file_extension": ".py",
   "mimetype": "text/x-python",
   "name": "python",
   "nbconvert_exporter": "python",
   "pygments_lexer": "ipython3",
   "version": "3.11.3"
  }
 },
 "nbformat": 4,
 "nbformat_minor": 5
}
