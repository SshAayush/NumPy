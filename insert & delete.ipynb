{
 "cells": [
  {
   "cell_type": "code",
   "execution_count": 1,
   "id": "b94cad95-747f-409c-8e74-648521a57968",
   "metadata": {},
   "outputs": [],
   "source": [
    " import numpy as np"
   ]
  },
  {
   "cell_type": "code",
   "execution_count": 2,
   "id": "1584b4d2-8545-4f92-82da-d8c528d04bb8",
   "metadata": {},
   "outputs": [
    {
     "name": "stdout",
     "output_type": "stream",
     "text": [
      "[ 1  2 40  3  4]\n"
     ]
    }
   ],
   "source": [
    "var_ins = np.array([1,2,3,4])\n",
    "\n",
    "new_var = np.insert(var_ins,2, 40)\n",
    "print(new_var)"
   ]
  },
  {
   "cell_type": "code",
   "execution_count": 3,
   "id": "81ae6fbd-31d8-45e5-91ad-b616d7ef3b3e",
   "metadata": {},
   "outputs": [
    {
     "name": "stdout",
     "output_type": "stream",
     "text": [
      "[ 1  2 40  3  4 40]\n"
     ]
    }
   ],
   "source": [
    "var_ins = np.array([1,2,3,4])\n",
    "\n",
    "new_var = np.insert(var_ins,(2,4), 40)\n",
    "print(new_var)"
   ]
  },
  {
   "cell_type": "code",
   "execution_count": 6,
   "id": "55dff8b2-c5b1-43ac-bc9e-3ebce91d3502",
   "metadata": {},
   "outputs": [
    {
     "name": "stdout",
     "output_type": "stream",
     "text": [
      "[[ 1  2  3]\n",
      " [ 1  2  3]\n",
      " [40 40 40]]\n"
     ]
    }
   ],
   "source": [
    " var_ins1 = np.array([[1,2,3],[1,2,3]])\n",
    "\n",
    "new_var1 = np.insert(var_ins1,2, 40,axis=0)\n",
    "print(new_var1)"
   ]
  },
  {
   "cell_type": "code",
   "execution_count": 7,
   "id": "542d9644-a962-4b10-8a5e-ba8c2b72ee57",
   "metadata": {},
   "outputs": [
    {
     "name": "stdout",
     "output_type": "stream",
     "text": [
      "[[ 1  2 40  3]\n",
      " [ 1  2 40  3]]\n"
     ]
    }
   ],
   "source": [
    " var_ins1 = np.array([[1,2,3],[1,2,3]])\n",
    "\n",
    "new_var1 = np.insert(var_ins1,2, 40,axis=1)\n",
    "print(new_var1)"
   ]
  },
  {
   "cell_type": "code",
   "execution_count": 8,
   "id": "8488cf5e-31ec-4ac6-b660-1e4e55cbe557",
   "metadata": {},
   "outputs": [
    {
     "name": "stdout",
     "output_type": "stream",
     "text": [
      "[1.  2.  3.  4.  6.5]\n"
     ]
    }
   ],
   "source": [
    "var_appen = np.array([1,2,3,4])\n",
    "\n",
    "new_appen = np.append(var_appen, 6.5)\n",
    "print(new_appen)"
   ]
  },
  {
   "cell_type": "code",
   "execution_count": 10,
   "id": "ec739d5a-2e02-4816-a876-8b3c5ab94eb4",
   "metadata": {},
   "outputs": [
    {
     "name": "stdout",
     "output_type": "stream",
     "text": [
      "[1 2 4]\n"
     ]
    }
   ],
   "source": [
    "var_del =np.array([1,2,3,4])\n",
    "\n",
    "new_del = np.delete(var_del, 2)\n",
    "print(new_del)"
   ]
  },
  {
   "cell_type": "code",
   "execution_count": null,
   "id": "14133852-4a99-4b61-a2d9-76121f75af84",
   "metadata": {},
   "outputs": [],
   "source": []
  }
 ],
 "metadata": {
  "kernelspec": {
   "display_name": "Python 3 (ipykernel)",
   "language": "python",
   "name": "python3"
  },
  "language_info": {
   "codemirror_mode": {
    "name": "ipython",
    "version": 3
   },
   "file_extension": ".py",
   "mimetype": "text/x-python",
   "name": "python",
   "nbconvert_exporter": "python",
   "pygments_lexer": "ipython3",
   "version": "3.11.3"
  }
 },
 "nbformat": 4,
 "nbformat_minor": 5
}
