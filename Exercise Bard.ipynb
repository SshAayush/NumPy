{
 "cells": [
  {
   "cell_type": "markdown",
   "id": "551d8db1-ef15-4752-89ce-03ac84e1a7c9",
   "metadata": {},
   "source": [
    "1. Consider a NumPy array containing the daily temperatures for a week. How would you find the day with the highest maximum temperature and the day with the lowest minimum temperature?"
   ]
  },
  {
   "cell_type": "code",
   "execution_count": 6,
   "id": "698b022b-8cd4-4cf4-a559-56591add3f88",
   "metadata": {},
   "outputs": [
    {
     "name": "stdout",
     "output_type": "stream",
     "text": [
      "Minimum Temprature:  10\n",
      "Maximum Temprature:  20\n"
     ]
    }
   ],
   "source": [
    "import numpy as np\n",
    "temp = np.array([10,18,15,19,20,16,15])\n",
    "print(\"Minimum Temprature: \",np.min(temp))\n",
    "print(\"Maximum Temprature: \", np.max(temp))"
   ]
  },
  {
   "cell_type": "markdown",
   "id": "e6639fed-44a3-4f74-a288-61d9cc4bc4d7",
   "metadata": {},
   "source": [
    "2. Imagine you have a NumPy array containing the coordinates of cities in Nepal. Each row represents a city, with the first column being the latitude and the second column being the longitude. How would you calculate the distance between two specific cities using the Haversine formula?"
   ]
  },
  {
   "cell_type": "code",
   "execution_count": 10,
   "id": "f6ec55f8-eb1c-4771-abe2-64a0f995b145",
   "metadata": {},
   "outputs": [
    {
     "name": "stdout",
     "output_type": "stream",
     "text": [
      "[[27.7172 85.324 ]\n",
      " [28.2083 83.9889]\n",
      " [26.4542 87.2797]]\n"
     ]
    }
   ],
   "source": [
    "coordinates = np.array([[27.7172,85.3240],[28.2083,83.9889],[26.4542,87.2797]])\n",
    "print(coordinates)"
   ]
  },
  {
   "cell_type": "markdown",
   "id": "e263c072-f25f-4c74-9b24-b95bd095a3ff",
   "metadata": {},
   "source": [
    "3.Create a NumPy array containing the squares of the numbers from 1 to 10."
   ]
  },
  {
   "cell_type": "code",
   "execution_count": 18,
   "id": "6f4c9cb8-7623-416b-9ddc-97b457335c94",
   "metadata": {},
   "outputs": [
    {
     "name": "stdout",
     "output_type": "stream",
     "text": [
      "[  1   4   9  16  25  36  49  64  81 100]\n"
     ]
    }
   ],
   "source": [
    "arr_sq = np.arange(1,11)\n",
    "arr_result = arr_sq ** 2\n",
    "print(arr_result)"
   ]
  },
  {
   "cell_type": "markdown",
   "id": "543ec1b1-babd-4e20-869a-02060efb7dd7",
   "metadata": {},
   "source": [
    "Slicing"
   ]
  },
  {
   "cell_type": "code",
   "execution_count": 26,
   "id": "a224f319-ec40-46a7-a5a1-ebc0dc8357fe",
   "metadata": {},
   "outputs": [
    {
     "name": "stdout",
     "output_type": "stream",
     "text": [
      "[[3 3 3 5 0]\n",
      " [4 3 5 1 3]\n",
      " [3 2 4 1 1]\n",
      " [4 1 1 1 1]\n",
      " [5 1 5 3 5]]\n",
      "[]\n"
     ]
    }
   ],
   "source": [
    "matrix = np.random.randint(6,size=(5,5))\n",
    "print(matrix)\n",
    "\n"
   ]
  },
  {
   "cell_type": "code",
   "execution_count": 31,
   "id": "4d80e348-2120-4f67-89b1-582522c4ecc5",
   "metadata": {},
   "outputs": [
    {
     "name": "stdout",
     "output_type": "stream",
     "text": [
      "[[3 3 3 5 0]\n",
      " [4 3 5 1 3]\n",
      " [3 2 4 1 1]\n",
      " [4 1 1 1 1]\n",
      " [5 1 5 3 5]]\n",
      "[[4 1 1]\n",
      " [1 1 1]\n",
      " [5 3 5]]\n"
     ]
    }
   ],
   "source": [
    "print(matrix)\n",
    "print(matrix[2:5,2:5])"
   ]
  },
  {
   "cell_type": "code",
   "execution_count": 40,
   "id": "3d2ff6f1-84bc-42aa-9c26-401f289e9565",
   "metadata": {},
   "outputs": [
    {
     "name": "stdout",
     "output_type": "stream",
     "text": [
      "[[3 3 3 5 0]\n",
      " [4 3 5 1 3]\n",
      " [3 2 4 1 1]\n",
      " [4 1 1 1 1]\n",
      " [5 1 5 3 5]]\n",
      "\n",
      "[[3 2 4 1 1]]\n"
     ]
    }
   ],
   "source": [
    "print(matrix)\n",
    "print()\n",
    "print(matrix[2:3,:])"
   ]
  },
  {
   "cell_type": "code",
   "execution_count": 42,
   "id": "6926828f-1913-4f92-8359-8109c240b89a",
   "metadata": {},
   "outputs": [
    {
     "name": "stdout",
     "output_type": "stream",
     "text": [
      "[[3 3 3 5 0]\n",
      " [4 3 5 1 3]\n",
      " [3 2 4 1 1]\n",
      " [4 1 1 1 1]\n",
      " [5 1 5 3 5]]\n",
      "\n",
      "[[3 5 1]\n",
      " [2 4 1]\n",
      " [1 1 1]]\n"
     ]
    }
   ],
   "source": [
    "print(matrix)\n",
    "print()\n",
    "print(matrix[1:4,1:4])"
   ]
  },
  {
   "cell_type": "markdown",
   "id": "71c45a42-e96b-4d94-834c-3c809e47ca82",
   "metadata": {},
   "source": [
    "3.Calculate the mean, median, and standard deviation of a NumPy array containing exam scores."
   ]
  },
  {
   "cell_type": "code",
   "execution_count": 49,
   "id": "81110e41-ae2f-41f4-82ad-b67dd3afe15b",
   "metadata": {},
   "outputs": [
    {
     "name": "stdout",
     "output_type": "stream",
     "text": [
      "44.166666666666664\n",
      "45.0\n",
      "12.047360245667466\n"
     ]
    }
   ],
   "source": [
    "score = np.array([60,25,55,50,35,40])\n",
    "mean = np.mean(score)\n",
    "median = np.median(score)\n",
    "sd = np.std(score)\n",
    "print(mean)\n",
    "print(median)\n",
    "print(sd)\n"
   ]
  },
  {
   "cell_type": "markdown",
   "id": "8ec4e592-60ea-43e1-aec3-6f3dd77cbf60",
   "metadata": {},
   "source": [
    "4.Sort a NumPy array of names in alphabetical order."
   ]
  },
  {
   "cell_type": "code",
   "execution_count": 52,
   "id": "77142ff3-09eb-41ad-9688-d1ae0355a8fa",
   "metadata": {},
   "outputs": [
    {
     "name": "stdout",
     "output_type": "stream",
     "text": [
      "['gita' 'hari' 'ram' 'shyam' 'sita']\n"
     ]
    }
   ],
   "source": [
    "arrange_array = np.array(['ram','shyam','hari','gita','sita'])\n",
    "new_array = np.sort(arrange_array)\n",
    "print(new_array)"
   ]
  },
  {
   "cell_type": "markdown",
   "id": "0fdd4896-c225-4eba-afb8-c65f195907e7",
   "metadata": {},
   "source": [
    "5.Extract a specific column from a NumPy array (e.g., extract all ages from a dataset)."
   ]
  },
  {
   "cell_type": "code",
   "execution_count": 55,
   "id": "947892b0-15e6-47ab-b11e-bd63b90b9cb5",
   "metadata": {},
   "outputs": [
    {
     "name": "stdout",
     "output_type": "stream",
     "text": [
      "['20' '19' '20']\n"
     ]
    }
   ],
   "source": [
    "data_set = np.array([['ram',20,],['hari',19],['Gita',20]])\n",
    "print(data_set[:,1])\n"
   ]
  },
  {
   "cell_type": "markdown",
   "id": "17bf530c-06f2-438b-a95d-b4242b77f182",
   "metadata": {},
   "source": [
    "#Round 2\n",
    "1.Create a NumPy array containing the squares of the first 15 odd numbers."
   ]
  },
  {
   "cell_type": "code",
   "execution_count": null,
   "id": "dff1c857-c640-449e-912f-76c712015926",
   "metadata": {},
   "outputs": [],
   "source": []
  }
 ],
 "metadata": {
  "kernelspec": {
   "display_name": "Python 3 (ipykernel)",
   "language": "python",
   "name": "python3"
  },
  "language_info": {
   "codemirror_mode": {
    "name": "ipython",
    "version": 3
   },
   "file_extension": ".py",
   "mimetype": "text/x-python",
   "name": "python",
   "nbconvert_exporter": "python",
   "pygments_lexer": "ipython3",
   "version": "3.11.3"
  }
 },
 "nbformat": 4,
 "nbformat_minor": 5
}
